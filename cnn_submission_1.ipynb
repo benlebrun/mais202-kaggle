{
  "nbformat": 4,
  "nbformat_minor": 0,
  "metadata": {
    "colab": {
      "name": "cnn_submission_1.ipynb",
      "provenance": [],
      "collapsed_sections": []
    },
    "kernelspec": {
      "name": "python3",
      "display_name": "Python 3"
    }
  },
  "cells": [
    {
      "cell_type": "code",
      "metadata": {
        "id": "IzUi1F5JEFPj",
        "colab_type": "code",
        "outputId": "fe3c8f6e-ef1c-48af-b5c6-b614e0342b0e",
        "colab": {
          "base_uri": "https://localhost:8080/",
          "height": 80
        }
      },
      "source": [
        "import tensorflow as tf\n",
        "from tensorflow.keras import layers, models, datasets\n",
        "import pandas as pd\n",
        "from keras.utils import to_categorical"
      ],
      "execution_count": 0,
      "outputs": [
        {
          "output_type": "display_data",
          "data": {
            "text/html": [
              "<p style=\"color: red;\">\n",
              "The default version of TensorFlow in Colab will soon switch to TensorFlow 2.x.<br>\n",
              "We recommend you <a href=\"https://www.tensorflow.org/guide/migrate\" target=\"_blank\">upgrade</a> now \n",
              "or ensure your notebook will continue to use TensorFlow 1.x via the <code>%tensorflow_version 1.x</code> magic:\n",
              "<a href=\"https://colab.research.google.com/notebooks/tensorflow_version.ipynb\" target=\"_blank\">more info</a>.</p>\n"
            ],
            "text/plain": [
              "<IPython.core.display.HTML object>"
            ]
          },
          "metadata": {
            "tags": []
          }
        },
        {
          "output_type": "stream",
          "text": [
            "Using TensorFlow backend.\n"
          ],
          "name": "stderr"
        }
      ]
    },
    {
      "cell_type": "code",
      "metadata": {
        "id": "EH85WiaoDWsD",
        "colab_type": "code",
        "colab": {}
      },
      "source": [
        "from matplotlib import pyplot\n",
        "from keras.datasets import fashion_mnist\n",
        "from sklearn.preprocessing import OneHotEncoder\n",
        "from sklearn.model_selection import KFold\n",
        "import numpy as np"
      ],
      "execution_count": 0,
      "outputs": []
    },
    {
      "cell_type": "markdown",
      "metadata": {
        "id": "lwaPUjmCRmSr",
        "colab_type": "text"
      },
      "source": [
        "Upload the following file and then unzip it"
      ]
    },
    {
      "cell_type": "code",
      "metadata": {
        "id": "wpMToPU1KS3l",
        "colab_type": "code",
        "outputId": "c25c1ac5-069f-44a8-9ad4-6751080950f3",
        "colab": {
          "base_uri": "https://localhost:8080/",
          "height": 119
        }
      },
      "source": [
        "!unzip winter2020-mais-202-kaggle.zip"
      ],
      "execution_count": 0,
      "outputs": [
        {
          "output_type": "stream",
          "text": [
            "Archive:  winter2020-mais-202-kaggle.zip\n",
            "  inflating: label_int_to_str_mapping.csv  \n",
            "  inflating: sample_submission.csv   \n",
            "  inflating: test_images.npy         \n",
            "  inflating: train_images.npy        \n",
            "  inflating: train_labels.csv        \n"
          ],
          "name": "stdout"
        }
      ]
    },
    {
      "cell_type": "markdown",
      "metadata": {
        "id": "AcmADA5P7N6n",
        "colab_type": "text"
      },
      "source": [
        "Download and re-shape training images"
      ]
    },
    {
      "cell_type": "code",
      "metadata": {
        "id": "L7HbCz6tKwBJ",
        "colab_type": "code",
        "colab": {}
      },
      "source": [
        "train_images = np.load(\"train_images.npy\")\n",
        "train_labels = pd.read_csv(\"train_labels.csv\")"
      ],
      "execution_count": 0,
      "outputs": []
    },
    {
      "cell_type": "code",
      "metadata": {
        "id": "AIqo36-7DbHt",
        "colab_type": "code",
        "colab": {}
      },
      "source": [
        "train_images = train_images.reshape((50000, 28, 28, 1))"
      ],
      "execution_count": 0,
      "outputs": []
    },
    {
      "cell_type": "code",
      "metadata": {
        "id": "8cipI-IONw7h",
        "colab_type": "code",
        "outputId": "77e7c055-75de-41bf-9cb4-118022a72b25",
        "colab": {
          "base_uri": "https://localhost:8080/",
          "height": 34
        }
      },
      "source": [
        "train_images.shape[0]"
      ],
      "execution_count": 0,
      "outputs": [
        {
          "output_type": "execute_result",
          "data": {
            "text/plain": [
              "50000"
            ]
          },
          "metadata": {
            "tags": []
          },
          "execution_count": 9
        }
      ]
    },
    {
      "cell_type": "markdown",
      "metadata": {
        "id": "A8J25dP37KPS",
        "colab_type": "text"
      },
      "source": [
        "Convert labels to categorical"
      ]
    },
    {
      "cell_type": "code",
      "metadata": {
        "id": "AwdNdFMcDfOv",
        "colab_type": "code",
        "colab": {}
      },
      "source": [
        "train_labels = to_categorical(train_labels['label'])"
      ],
      "execution_count": 0,
      "outputs": []
    },
    {
      "cell_type": "markdown",
      "metadata": {
        "id": "O5lEYQVH7So_",
        "colab_type": "text"
      },
      "source": [
        "Normalize"
      ]
    },
    {
      "cell_type": "code",
      "metadata": {
        "id": "cblQczWAEH3z",
        "colab_type": "code",
        "colab": {}
      },
      "source": [
        "train_images = train_images / 255.0"
      ],
      "execution_count": 0,
      "outputs": []
    },
    {
      "cell_type": "markdown",
      "metadata": {
        "id": "-9EZNe3J7R-N",
        "colab_type": "text"
      },
      "source": [
        "Define model \n",
        "reference: "
      ]
    },
    {
      "cell_type": "code",
      "metadata": {
        "id": "_vvJjt5LEvcE",
        "colab_type": "code",
        "colab": {}
      },
      "source": [
        "def define_model():\n",
        "\tmodel = Sequential()\n",
        "\tmodel.add(Conv2D(32, (3, 3), activation='relu', kernel_initializer='he_uniform', input_shape=(28, 28, 1)))\n",
        "\tmodel.add(MaxPooling2D((2, 2)))\n",
        "\tmodel.add(Flatten())\n",
        "\tmodel.add(Dense(100, activation='relu', kernel_initializer='he_uniform'))\n",
        "\tmodel.add(Dense(10, activation='softmax'))\n",
        "\t# compile model\n",
        "\topt = SGD(lr=0.01, momentum=0.9)\n",
        "\tmodel.compile(optimizer=opt, loss='categorical_crossentropy', metrics=['accuracy'])\n",
        "\treturn model"
      ],
      "execution_count": 0,
      "outputs": []
    },
    {
      "cell_type": "markdown",
      "metadata": {
        "id": "nnJ72Qhx7aSd",
        "colab_type": "text"
      },
      "source": [
        "Import required dependencies"
      ]
    },
    {
      "cell_type": "code",
      "metadata": {
        "id": "dS20UTMWE-tg",
        "colab_type": "code",
        "colab": {}
      },
      "source": [
        "from keras.models import Sequential\n",
        "from keras.layers import Dense, Dropout, Activation, Flatten, BatchNormalization, InputLayer\n",
        "from keras.layers import Conv2D, MaxPooling2D\n",
        "from keras.optimizers import SGD"
      ],
      "execution_count": 0,
      "outputs": []
    },
    {
      "cell_type": "code",
      "metadata": {
        "id": "f8I7Dq6rEx8C",
        "colab_type": "code",
        "colab": {}
      },
      "source": [
        "model = define_model()"
      ],
      "execution_count": 0,
      "outputs": []
    },
    {
      "cell_type": "markdown",
      "metadata": {
        "id": "0xx1Hfzi7e52",
        "colab_type": "text"
      },
      "source": [
        "Fit model to training images"
      ]
    },
    {
      "cell_type": "code",
      "metadata": {
        "id": "pxUKU6yNFnRp",
        "colab_type": "code",
        "outputId": "790bda48-446b-4e02-ac67-3037b1d2bd31",
        "colab": {
          "base_uri": "https://localhost:8080/",
          "height": 717
        }
      },
      "source": [
        "model.fit(train_images, train_labels, epochs=10, batch_size=32)"
      ],
      "execution_count": 0,
      "outputs": [
        {
          "output_type": "stream",
          "text": [
            "WARNING:tensorflow:From /usr/local/lib/python3.6/dist-packages/tensorflow_core/python/ops/math_grad.py:1424: where (from tensorflow.python.ops.array_ops) is deprecated and will be removed in a future version.\n",
            "Instructions for updating:\n",
            "Use tf.where in 2.0, which has the same broadcast rule as np.where\n",
            "WARNING:tensorflow:From /usr/local/lib/python3.6/dist-packages/keras/backend/tensorflow_backend.py:1033: The name tf.assign_add is deprecated. Please use tf.compat.v1.assign_add instead.\n",
            "\n",
            "WARNING:tensorflow:From /usr/local/lib/python3.6/dist-packages/keras/backend/tensorflow_backend.py:1020: The name tf.assign is deprecated. Please use tf.compat.v1.assign instead.\n",
            "\n",
            "WARNING:tensorflow:From /usr/local/lib/python3.6/dist-packages/keras/backend/tensorflow_backend.py:3005: The name tf.Session is deprecated. Please use tf.compat.v1.Session instead.\n",
            "\n",
            "Epoch 1/10\n",
            "WARNING:tensorflow:From /usr/local/lib/python3.6/dist-packages/keras/backend/tensorflow_backend.py:190: The name tf.get_default_session is deprecated. Please use tf.compat.v1.get_default_session instead.\n",
            "\n",
            "WARNING:tensorflow:From /usr/local/lib/python3.6/dist-packages/keras/backend/tensorflow_backend.py:197: The name tf.ConfigProto is deprecated. Please use tf.compat.v1.ConfigProto instead.\n",
            "\n",
            "WARNING:tensorflow:From /usr/local/lib/python3.6/dist-packages/keras/backend/tensorflow_backend.py:207: The name tf.global_variables is deprecated. Please use tf.compat.v1.global_variables instead.\n",
            "\n",
            "WARNING:tensorflow:From /usr/local/lib/python3.6/dist-packages/keras/backend/tensorflow_backend.py:216: The name tf.is_variable_initialized is deprecated. Please use tf.compat.v1.is_variable_initialized instead.\n",
            "\n",
            "WARNING:tensorflow:From /usr/local/lib/python3.6/dist-packages/keras/backend/tensorflow_backend.py:223: The name tf.variables_initializer is deprecated. Please use tf.compat.v1.variables_initializer instead.\n",
            "\n",
            "50000/50000 [==============================] - 31s 614us/step - loss: 0.7424 - acc: 0.7157\n",
            "Epoch 2/10\n",
            "50000/50000 [==============================] - 30s 604us/step - loss: 0.4941 - acc: 0.8188\n",
            "Epoch 3/10\n",
            "50000/50000 [==============================] - 30s 603us/step - loss: 0.4377 - acc: 0.8393\n",
            "Epoch 4/10\n",
            "50000/50000 [==============================] - 30s 599us/step - loss: 0.3962 - acc: 0.8544\n",
            "Epoch 5/10\n",
            "50000/50000 [==============================] - 30s 602us/step - loss: 0.3614 - acc: 0.8672\n",
            "Epoch 6/10\n",
            "50000/50000 [==============================] - 30s 599us/step - loss: 0.3333 - acc: 0.8767\n",
            "Epoch 7/10\n",
            "50000/50000 [==============================] - 30s 605us/step - loss: 0.3107 - acc: 0.8847\n",
            "Epoch 8/10\n",
            "50000/50000 [==============================] - 30s 604us/step - loss: 0.2848 - acc: 0.8943\n",
            "Epoch 9/10\n",
            "50000/50000 [==============================] - 31s 612us/step - loss: 0.2638 - acc: 0.9033\n",
            "Epoch 10/10\n",
            "50000/50000 [==============================] - 30s 609us/step - loss: 0.2403 - acc: 0.9109\n"
          ],
          "name": "stdout"
        },
        {
          "output_type": "execute_result",
          "data": {
            "text/plain": [
              "<keras.callbacks.History at 0x7f7b071a62b0>"
            ]
          },
          "metadata": {
            "tags": []
          },
          "execution_count": 15
        }
      ]
    },
    {
      "cell_type": "markdown",
      "metadata": {
        "id": "C9LZH2XH7haq",
        "colab_type": "text"
      },
      "source": [
        "Load and predict on test images"
      ]
    },
    {
      "cell_type": "code",
      "metadata": {
        "id": "oGKsaC11Iuje",
        "colab_type": "code",
        "colab": {}
      },
      "source": [
        "test_images = np.load(\"test_images.npy\")"
      ],
      "execution_count": 0,
      "outputs": []
    },
    {
      "cell_type": "code",
      "metadata": {
        "id": "K4MFMc2aOMZV",
        "colab_type": "code",
        "colab": {}
      },
      "source": [
        "test_images = test_images.reshape((test_images.shape[0], 28, 28, 1))\n",
        "test_images = test_images / 255.0"
      ],
      "execution_count": 0,
      "outputs": []
    },
    {
      "cell_type": "code",
      "metadata": {
        "id": "YZ9MJ6hLQGWW",
        "colab_type": "code",
        "colab": {}
      },
      "source": [
        "predictions = model.predict(test_images)"
      ],
      "execution_count": 0,
      "outputs": []
    },
    {
      "cell_type": "code",
      "metadata": {
        "id": "wlB43MliQIID",
        "colab_type": "code",
        "colab": {}
      },
      "source": [
        "prediction_labels = []\n",
        "for pred in predictions:\n",
        "  prediction_labels.append(np.argmax(pred))"
      ],
      "execution_count": 0,
      "outputs": []
    },
    {
      "cell_type": "markdown",
      "metadata": {
        "id": "NfjdY9K1RPaz",
        "colab_type": "text"
      },
      "source": [
        "Write submission file"
      ]
    },
    {
      "cell_type": "code",
      "metadata": {
        "id": "7E9E32EORc_b",
        "colab_type": "code",
        "colab": {}
      },
      "source": [
        "submission = pd.read_csv('sample_submission.csv')"
      ],
      "execution_count": 0,
      "outputs": []
    },
    {
      "cell_type": "code",
      "metadata": {
        "id": "m2MrUr7xUIYO",
        "colab_type": "code",
        "colab": {}
      },
      "source": [
        "submission['label'] = prediction_labels"
      ],
      "execution_count": 0,
      "outputs": []
    },
    {
      "cell_type": "code",
      "metadata": {
        "id": "q3qCWv8PUI_F",
        "colab_type": "code",
        "colab": {}
      },
      "source": [
        "submission.to_csv('/content/submission.csv', index=False)"
      ],
      "execution_count": 0,
      "outputs": []
    }
  ]
}